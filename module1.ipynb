{
  "nbformat": 4,
  "nbformat_minor": 0,
  "metadata": {
    "colab": {
      "provenance": [],
      "authorship_tag": "ABX9TyPVs1h21MXXyhnNmnVBqfOo",
      "include_colab_link": true
    },
    "kernelspec": {
      "name": "ir",
      "display_name": "R"
    },
    "language_info": {
      "name": "R"
    }
  },
  "cells": [
    {
      "cell_type": "markdown",
      "metadata": {
        "id": "view-in-github",
        "colab_type": "text"
      },
      "source": [
        "<a href=\"https://colab.research.google.com/github/ofprattmids/mids-w271-oliviapratt/blob/main/module1.ipynb\" target=\"_parent\"><img src=\"https://colab.research.google.com/assets/colab-badge.svg\" alt=\"Open In Colab\"/></a>"
      ]
    },
    {
      "cell_type": "code",
      "execution_count": 3,
      "metadata": {
        "colab": {
          "base_uri": "https://localhost:8080/",
          "height": 52
        },
        "id": "DBn-wSV_fquQ",
        "outputId": "7eb4b5de-5f39-4a69-8e37-f0d3434dc67d"
      },
      "outputs": [
        {
          "output_type": "display_data",
          "data": {
            "text/html": [
              "<style>\n",
              ".list-inline {list-style: none; margin:0; padding: 0}\n",
              ".list-inline>li {display: inline-block}\n",
              ".list-inline>li:not(:last-child)::after {content: \"\\00b7\"; padding: 0 .5ex}\n",
              "</style>\n",
              "<ol class=list-inline><li>0.1073741824</li><li>0.268435456</li><li>0.301989888</li><li>0.201326592</li><li>0.088080384</li><li>0.0264241152</li><li>0.005505024</li><li>0.000786432</li><li>7.37280000000002e-05</li><li>4.09599999999999e-06</li><li>1.024e-07</li></ol>\n"
            ],
            "text/markdown": "1. 0.1073741824\n2. 0.268435456\n3. 0.301989888\n4. 0.201326592\n5. 0.088080384\n6. 0.0264241152\n7. 0.005505024\n8. 0.000786432\n9. 7.37280000000002e-05\n10. 4.09599999999999e-06\n11. 1.024e-07\n\n\n",
            "text/latex": "\\begin{enumerate*}\n\\item 0.1073741824\n\\item 0.268435456\n\\item 0.301989888\n\\item 0.201326592\n\\item 0.088080384\n\\item 0.0264241152\n\\item 0.005505024\n\\item 0.000786432\n\\item 7.37280000000002e-05\n\\item 4.09599999999999e-06\n\\item 1.024e-07\n\\end{enumerate*}\n",
            "text/plain": [
              " [1] 0.1073741824 0.2684354560 0.3019898880 0.2013265920 0.0880803840\n",
              " [6] 0.0264241152 0.0055050240 0.0007864320 0.0000737280 0.0000040960\n",
              "[11] 0.0000001024"
            ]
          },
          "metadata": {}
        }
      ],
      "source": [
        "dbinom(x = 0:10, size = 10, prob = 0.2)"
      ]
    },
    {
      "cell_type": "code",
      "source": [
        "dbinom(x = 0:10, size = 10, prob = 0.8)"
      ],
      "metadata": {
        "colab": {
          "base_uri": "https://localhost:8080/",
          "height": 52
        },
        "id": "3UoNqE_TgL-N",
        "outputId": "69d4fe5b-fd04-470b-968c-c941e1736946"
      },
      "execution_count": 4,
      "outputs": [
        {
          "output_type": "display_data",
          "data": {
            "text/html": [
              "<style>\n",
              ".list-inline {list-style: none; margin:0; padding: 0}\n",
              ".list-inline>li {display: inline-block}\n",
              ".list-inline>li:not(:last-child)::after {content: \"\\00b7\"; padding: 0 .5ex}\n",
              "</style>\n",
              "<ol class=list-inline><li>1.024e-07</li><li>4.09599999999999e-06</li><li>7.37279999999999e-05</li><li>0.000786431999999999</li><li>0.00550502399999999</li><li>0.0264241152</li><li>0.088080384</li><li>0.201326592</li><li>0.301989888</li><li>0.268435456</li><li>0.1073741824</li></ol>\n"
            ],
            "text/markdown": "1. 1.024e-07\n2. 4.09599999999999e-06\n3. 7.37279999999999e-05\n4. 0.000786431999999999\n5. 0.00550502399999999\n6. 0.0264241152\n7. 0.088080384\n8. 0.201326592\n9. 0.301989888\n10. 0.268435456\n11. 0.1073741824\n\n\n",
            "text/latex": "\\begin{enumerate*}\n\\item 1.024e-07\n\\item 4.09599999999999e-06\n\\item 7.37279999999999e-05\n\\item 0.000786431999999999\n\\item 0.00550502399999999\n\\item 0.0264241152\n\\item 0.088080384\n\\item 0.201326592\n\\item 0.301989888\n\\item 0.268435456\n\\item 0.1073741824\n\\end{enumerate*}\n",
            "text/plain": [
              " [1] 0.0000001024 0.0000040960 0.0000737280 0.0007864320 0.0055050240\n",
              " [6] 0.0264241152 0.0880803840 0.2013265920 0.3019898880 0.2684354560\n",
              "[11] 0.1073741824"
            ]
          },
          "metadata": {}
        }
      ]
    }
  ]
}